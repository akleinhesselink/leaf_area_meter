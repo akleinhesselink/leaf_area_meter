{
 "cells": [
  {
   "cell_type": "code",
   "execution_count": 283,
   "metadata": {},
   "outputs": [],
   "source": [
    "### Work in Progress. I modified the working version to use stacks"
   ]
  },
  {
   "cell_type": "code",
   "execution_count": 284,
   "metadata": {},
   "outputs": [],
   "source": [
    "import numpy as np\n",
    "import matplotlib.pylab as plt\n",
    "import matplotlib.image as mpimg\n",
    "from skimage.color import rgb2gray\n",
    "from skimage.filters import threshold_otsu\n",
    "from skimage.segmentation import clear_border\n",
    "from scipy import ndimage as ndi\n",
    "import skimage.util as util\n",
    "import skimage.io as io \n",
    "import skimage.util as u\n",
    "import glob\n",
    "from os import path \n",
    "import pandas as pd \n",
    "import re\n",
    "import sys\n",
    "from matplotlib.backends.backend_pdf import PdfPages\n"
   ]
  },
  {
   "cell_type": "code",
   "execution_count": 285,
   "metadata": {},
   "outputs": [],
   "source": [
    "def calc_px_per_cm2( resolution ): \n",
    "    return(np.int( (resolution**2)/(2.54**2)))\n",
    "    \n",
    "def find_leaves( binary_img, min_size ): \n",
    "    labels,__ = ndi.label(binary_img)\n",
    "    items, area = np.unique(labels, return_counts = True)\n",
    "    big_items = items[ area > min_size ][1:] # subtract background \n",
    "    leaf = np.isin( labels, big_items )      # keep items that are leaf \n",
    "    item_areas = area [ np.isin(items, big_items ) ] \n",
    "    return( leaf, item_areas )\n",
    "\n",
    "def make_summary_table( img_files, NumLeaves, TotalArea, AvgArea, PercArea = '', Mean = ''): \n",
    "    d = {'Slice': [path.splitext(f)[0] for f in img_files]}\n",
    "    my_dat = pd.DataFrame(data = d)\n",
    "    my_dat['Count'] = NumLeaves\n",
    "    my_dat['Total Area'] = TotalArea\n",
    "    my_dat['Average Size'] = AvgArea\n",
    "    my_dat['%Area'] = PercArea\n",
    "    my_dat['Mean'] = Mean\n",
    "    return(my_dat)\n",
    "\n",
    "def plot_leaf_area(filename, leaf, leaf_area ): \n",
    "    \n",
    "    fig, axes = plt.subplots(1, 2, figsize=(10,10))\n",
    "    ax = axes.ravel()\n",
    "    ax[0].imshow(mpimg.imread(filename), cmap = plt.cm.gray)\n",
    "    ax[0].set_title(filename)\n",
    "    ax[1].imshow(leaf, cmap=plt.cm.binary)\n",
    "    ax[1].set_title( \"Tota leaf area: {:.2f} cm\\N{SUPERSCRIPT TWO}\".format(leaf_area)  )\n",
    "    fig.tight_layout()  \n",
    "    plt.close()\n",
    "    return(fig)\n",
    "    \n",
    "\n",
    "def main(): \n",
    "        \n",
    "    if( len( sys.argv ) == 2 ):\n",
    "        arg_file = sys.argv[1]\n",
    "        print(\"using csv arguments in: \" + arg_file)\n",
    "        # parameters from argfile \n",
    "        pattern, resolution, min_size, topcrop, botcrop, lcrop, rcrop = ( pd.read_csv(arg_file, header = None).iloc[0] ) \n",
    "    else: \n",
    "        print(\"incorrect number of arguments\")\n",
    "        \n",
    "    px_per_cm2 = calc_px_per_cm2(resolution)\n",
    "        \n",
    "    img_files = glob.glob(pattern)\n",
    "    img_files = np.sort( img_files)\n",
    "    imgs = io.imread_collection(img_files)\n",
    "    img_stack = np.stack( [rgb2gray(x) for x in imgs ])\n",
    "\n",
    "    img_size = img_stack.shape[1:  ]\n",
    "    d1 = np.int_( [0, img_size[0]] ) + np.int_([topcrop, - botcrop])\n",
    "    d2 = np.int_( [0, img_size[1]] ) + np.int_([rcrop, - lcrop ])\n",
    "    img_stack = img_stack[ : , d1[0]:d1[1], d2[0]:d2[1]] # crop \n",
    "    \n",
    "    # make binary \n",
    "    thresh = np.int_( np.array( [threshold_otsu( x ) for x in img_stack] ).mean())\n",
    "    binary = np.array( [ x < thresh for x in img_stack ] )\n",
    "    binary = np.array( [ clear_border(x) for x in binary] )\n",
    "    \n",
    "    # find leaves and save stats \n",
    "    out = [ find_leaves( x, min_size ) for x in binary ]\n",
    "    leaves = np.stack( [ x[0] for x in out ])\n",
    "    item_areas = np.array( [x[1] for x in out ])\n",
    "\n",
    "    # calculate particle statistics \n",
    "    NumLeaves = np.int_( [ len(x) for x in item_areas]  )\n",
    "    AvgArea = np.array( [ np.mean(x) for x in item_areas ] )/px_per_cm2\n",
    "    TotalArea = np.array([ np.sum(x) for x in item_areas ] )/px_per_cm2 \n",
    "    \n",
    "    print( \"Saving leaf areas\")\n",
    "    my_dat = make_summary_table( img_files, NumLeaves, TotalArea, AvgArea )\n",
    "    scan_group = re.search( '^([A-Za-z0-9_-]+)\\\\*', pattern).group(1)    \n",
    "    my_dat.to_csv( scan_group + '_leaf_area.csv', index= False)\n",
    "    \n",
    "    results = list( zip( img_files, leaves, TotalArea) )\n",
    "    \n",
    "    # save images to check cropping and leaf detection \n",
    "    print( \"Plotting pdf to check results\")\n",
    "    pp = PdfPages(scan_group + '_check.pdf' )\n",
    "    figs = [plot_leaf_area(x[0], x[1], x[2] ) for x in results ]\n",
    "    [pp.savefig(x, dpi = 150) for x in figs ]\n",
    "    pp.close()\n",
    "    "
   ]
  },
  {
   "cell_type": "code",
   "execution_count": 286,
   "metadata": {},
   "outputs": [
    {
     "name": "stdout",
     "output_type": "stream",
     "text": [
      "incorrect number of arguments\n"
     ]
    },
    {
     "ename": "UnboundLocalError",
     "evalue": "local variable 'resolution' referenced before assignment",
     "output_type": "error",
     "traceback": [
      "\u001b[0;31m---------------------------------------------------------------------------\u001b[0m",
      "\u001b[0;31mUnboundLocalError\u001b[0m                         Traceback (most recent call last)",
      "\u001b[0;32m<ipython-input-286-fc605e3dc34d>\u001b[0m in \u001b[0;36m<module>\u001b[0;34m\u001b[0m\n\u001b[1;32m      1\u001b[0m \u001b[0;32mif\u001b[0m \u001b[0m__name__\u001b[0m\u001b[0;34m==\u001b[0m \u001b[0;34m\"__main__\"\u001b[0m\u001b[0;34m:\u001b[0m\u001b[0;34m\u001b[0m\u001b[0;34m\u001b[0m\u001b[0m\n\u001b[0;32m----> 2\u001b[0;31m   \u001b[0mmain\u001b[0m\u001b[0;34m(\u001b[0m\u001b[0;34m)\u001b[0m\u001b[0;34m\u001b[0m\u001b[0;34m\u001b[0m\u001b[0m\n\u001b[0m",
      "\u001b[0;32m<ipython-input-285-8b4109f0abb7>\u001b[0m in \u001b[0;36mmain\u001b[0;34m()\u001b[0m\n\u001b[1;32m     43\u001b[0m         \u001b[0mprint\u001b[0m\u001b[0;34m(\u001b[0m\u001b[0;34m\"incorrect number of arguments\"\u001b[0m\u001b[0;34m)\u001b[0m\u001b[0;34m\u001b[0m\u001b[0;34m\u001b[0m\u001b[0m\n\u001b[1;32m     44\u001b[0m \u001b[0;34m\u001b[0m\u001b[0m\n\u001b[0;32m---> 45\u001b[0;31m     \u001b[0mpx_per_cm2\u001b[0m \u001b[0;34m=\u001b[0m \u001b[0mcalc_px_per_cm2\u001b[0m\u001b[0;34m(\u001b[0m\u001b[0mresolution\u001b[0m\u001b[0;34m)\u001b[0m\u001b[0;34m\u001b[0m\u001b[0;34m\u001b[0m\u001b[0m\n\u001b[0m\u001b[1;32m     46\u001b[0m \u001b[0;34m\u001b[0m\u001b[0m\n\u001b[1;32m     47\u001b[0m     \u001b[0mimg_files\u001b[0m \u001b[0;34m=\u001b[0m \u001b[0mglob\u001b[0m\u001b[0;34m.\u001b[0m\u001b[0mglob\u001b[0m\u001b[0;34m(\u001b[0m\u001b[0mpattern\u001b[0m\u001b[0;34m)\u001b[0m\u001b[0;34m\u001b[0m\u001b[0;34m\u001b[0m\u001b[0m\n",
      "\u001b[0;31mUnboundLocalError\u001b[0m: local variable 'resolution' referenced before assignment"
     ]
    }
   ],
   "source": [
    "if __name__== \"__main__\":\n",
    "  main()"
   ]
  }
 ],
 "metadata": {
  "kernelspec": {
   "display_name": "Python 3",
   "language": "python",
   "name": "python3"
  },
  "language_info": {
   "codemirror_mode": {
    "name": "ipython",
    "version": 3
   },
   "file_extension": ".py",
   "mimetype": "text/x-python",
   "name": "python",
   "nbconvert_exporter": "python",
   "pygments_lexer": "ipython3",
   "version": "3.7.3"
  }
 },
 "nbformat": 4,
 "nbformat_minor": 2
}
